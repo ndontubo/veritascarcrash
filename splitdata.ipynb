{
 "cells": [
  {
   "cell_type": "code",
   "execution_count": 2,
   "id": "0415cfad-675c-4a50-9c4b-8dabf970733a",
   "metadata": {
    "tags": []
   },
   "outputs": [],
   "source": [
    "!pip install -q git+https://github.com/tensorflow/docs\n",
    "from tensorflow_docs.vis import embed\n",
    "from tensorflow import keras\n",
    "from imutils import paths\n",
    "\n",
    "import matplotlib.pyplot as plt\n",
    "import tensorflow as tf\n",
    "import pandas as pd\n",
    "import numpy as np\n",
    "import imageio\n",
    "import cv2\n",
    "import os\n",
    "\n",
    "def make_dataset():\n",
    "    data_new = pd.read_csv('Crash_Table.csv')\n",
    "    row, col = data_new.shape\n",
    "\n",
    "    for index, row in data_new.iterrows():\n",
    "        if row[\"egoinvolve\"] == \"No\":\n",
    "            data_new = data_new.drop(index)\n",
    "    data_new = data_new.drop(\"startframe\", axis='columns')\n",
    "    data_new = data_new.drop(\"youtubeID\", axis='columns')\n",
    "    data_new = data_new.drop(\"timing\", axis='columns')\n",
    "    data_new = data_new.drop(\"weather\", axis='columns')\n",
    "    data_new = data_new.drop(\"egoinvolve\", axis='columns')\n",
    "\n",
    "    names = os.listdir(\"./normalframes\")\n",
    "    header = list(data_new.columns)\n",
    "    data_normal = pd.DataFrame(columns=header)\n",
    "\n",
    "    for i in names:\n",
    "        data_normal.loc[len(data_normal.index)] = [i, 0, 0, 0, 0, 0, 0, 0, 0, 0, 0, 0, 0, 0, 0, 0, 0, 0, 0, 0, 0, 0, 0, 0, 0, 0, 0, 0, 0, 0, 0, 0, 0, 0, 0, 0, 0, 0, 0, 0, 0, 0, 0, 0, 0, 0, 0, 0, 0, 0, 0]\n",
    "\n",
    "    data_new = pd.concat([data_normal, data_new], axis=0)\n",
    "    data_new.drop(data_new.iloc[:, 1:50], inplace=True, axis=1)\n",
    "\n",
    "    # Using DataFrame.sample() \n",
    "    train_df=data_new.sample(frac=0.8,random_state=200)\n",
    "    test_df=data_new.drop(train_df.index)\n",
    "    \n",
    "    return [train_df, test_df]\n",
    "\n",
    "list1 = make_dataset()\n",
    "train_df = list1[0]\n",
    "test_df = list1[1]\n",
    "\n",
    "train_df.to_csv('train_df.csv')\n",
    "test_df.to_csv('test_df.csv')"
   ]
  },
  {
   "cell_type": "code",
   "execution_count": null,
   "id": "66e7bc82-2e15-45d3-ab76-5277e8e5bda1",
   "metadata": {},
   "outputs": [],
   "source": []
  }
 ],
 "metadata": {
  "kernelspec": {
   "display_name": "Python 3 (ipykernel)",
   "language": "python",
   "name": "python3"
  },
  "language_info": {
   "codemirror_mode": {
    "name": "ipython",
    "version": 3
   },
   "file_extension": ".py",
   "mimetype": "text/x-python",
   "name": "python",
   "nbconvert_exporter": "python",
   "pygments_lexer": "ipython3",
   "version": "3.11.3"
  }
 },
 "nbformat": 4,
 "nbformat_minor": 5
}
