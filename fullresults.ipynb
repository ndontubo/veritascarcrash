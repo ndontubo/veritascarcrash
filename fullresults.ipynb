{
 "cells": [
  {
   "cell_type": "code",
   "execution_count": 140,
   "id": "10204565-478a-444a-aa96-59a3c3b7f6fd",
   "metadata": {},
   "outputs": [],
   "source": [
    "!pip install -q git+https://github.com/tensorflow/docs\n",
    "from tensorflow_docs.vis import embed\n",
    "from tensorflow import keras\n",
    "from imutils import paths\n",
    "\n",
    "import matplotlib.pyplot as plt\n",
    "import tensorflow as tf\n",
    "import pandas as pd\n",
    "import numpy as np\n",
    "import imageio\n",
    "import cv2\n",
    "import os"
   ]
  },
  {
   "cell_type": "code",
   "execution_count": 141,
   "id": "f1b43b1e-c231-4e56-a06c-41e9577081cf",
   "metadata": {
    "tags": []
   },
   "outputs": [],
   "source": [
    "inception_results = pd.read_csv('inception_results.csv').iloc[: , 1:].iloc[452:]\n",
    "vgg_results = pd.read_csv('vgg_results.csv').iloc[: , 1:].iloc[452:]\n",
    "resnet_results = pd.read_csv('resnet_results.csv').iloc[: , 1:].iloc[452:]\n",
    "custom_results = pd.read_csv('custom_results.csv').iloc[: , 1:].iloc[452:]"
   ]
  },
  {
   "cell_type": "code",
   "execution_count": 142,
   "id": "44a297b4-7657-46e1-9411-dffc08ab93ec",
   "metadata": {
    "tags": []
   },
   "outputs": [],
   "source": [
    "import sklearn\n",
    "from sklearn.metrics import roc_curve\n",
    "from sklearn.metrics import roc_auc_score\n",
    "from sklearn.metrics import confusion_matrix, ConfusionMatrixDisplay"
   ]
  },
  {
   "cell_type": "code",
   "execution_count": 143,
   "id": "0b77b61d-f204-4b5a-b225-5701a14c5b16",
   "metadata": {
    "tags": []
   },
   "outputs": [
    {
     "data": {
      "text/html": [
       "<div>\n",
       "<style scoped>\n",
       "    .dataframe tbody tr th:only-of-type {\n",
       "        vertical-align: middle;\n",
       "    }\n",
       "\n",
       "    .dataframe tbody tr th {\n",
       "        vertical-align: top;\n",
       "    }\n",
       "\n",
       "    .dataframe thead th {\n",
       "        text-align: right;\n",
       "    }\n",
       "</style>\n",
       "<table border=\"1\" class=\"dataframe\">\n",
       "  <thead>\n",
       "    <tr style=\"text-align: right;\">\n",
       "      <th></th>\n",
       "      <th>thresholds</th>\n",
       "      <th>accuracy</th>\n",
       "    </tr>\n",
       "  </thead>\n",
       "  <tbody>\n",
       "    <tr>\n",
       "      <th>8</th>\n",
       "      <td>0.2958</td>\n",
       "      <td>0.938272</td>\n",
       "    </tr>\n",
       "    <tr>\n",
       "      <th>10</th>\n",
       "      <td>0.2827</td>\n",
       "      <td>0.925926</td>\n",
       "    </tr>\n",
       "    <tr>\n",
       "      <th>9</th>\n",
       "      <td>0.2879</td>\n",
       "      <td>0.913580</td>\n",
       "    </tr>\n",
       "    <tr>\n",
       "      <th>12</th>\n",
       "      <td>0.2343</td>\n",
       "      <td>0.876543</td>\n",
       "    </tr>\n",
       "    <tr>\n",
       "      <th>13</th>\n",
       "      <td>0.2246</td>\n",
       "      <td>0.876543</td>\n",
       "    </tr>\n",
       "  </tbody>\n",
       "</table>\n",
       "</div>"
      ],
      "text/plain": [
       "    thresholds  accuracy\n",
       "8       0.2958  0.938272\n",
       "10      0.2827  0.925926\n",
       "9       0.2879  0.913580\n",
       "12      0.2343  0.876543\n",
       "13      0.2246  0.876543"
      ]
     },
     "execution_count": 143,
     "metadata": {},
     "output_type": "execute_result"
    }
   ],
   "source": [
    "final_prediction = pd.Series(inception_results[\"predict1\"])/100\n",
    "y_test = pd.Series(inception_results[\"real\"])\n",
    "\n",
    "fpr, tpr, thresholds = roc_curve(y_test, final_prediction)\n",
    "thresholds\n",
    "\n",
    "from sklearn.metrics import accuracy_score\n",
    "accuracy = []\n",
    "for thres in thresholds:\n",
    "    final_pred = np.where(final_prediction<thres, final_prediction, 1)\n",
    "    final_pred = np.where(final_pred>thres, final_pred, 0)\n",
    "    accuracy.append(accuracy_score(y_test, final_pred, normalize = True))\n",
    "accuracy = pd.concat([pd.Series(thresholds), pd.Series(accuracy)], axis=1)\n",
    "accuracy.columns = [\"thresholds\", \"accuracy\"]\n",
    "accuracy.sort_values(by=\"accuracy\", ascending = False, inplace = True)\n",
    "accuracy.head()"
   ]
  },
  {
   "cell_type": "code",
   "execution_count": 144,
   "id": "e0388586-0be5-4a2f-a1fa-58d85ba29b82",
   "metadata": {
    "tags": []
   },
   "outputs": [
    {
     "data": {
      "text/plain": [
       "<sklearn.metrics._plot.confusion_matrix.ConfusionMatrixDisplay at 0x16cfa8810>"
      ]
     },
     "execution_count": 144,
     "metadata": {},
     "output_type": "execute_result"
    },
    {
     "data": {
      "image/png": "[encoded data removed]",
      "text/plain": [
       "<Figure size 640x480 with 2 Axes>"
      ]
     },
     "metadata": {},
     "output_type": "display_data"
    }
   ],
   "source": [
    "final_pred = np.where(final_prediction<0.2958, final_prediction, 1)\n",
    "final_pred = np.where(final_pred>0.2938, final_pred, 0)\n",
    "cm = confusion_matrix(y_test, final_pred)\n",
    "ConfusionMatrixDisplay(confusion_matrix=cm).plot()"
   ]
  },
  {
   "cell_type": "code",
   "execution_count": 145,
   "id": "61acdcb7-4dcb-455b-93a1-e355ed9e60db",
   "metadata": {
    "tags": []
   },
   "outputs": [
    {
     "data": {
      "text/html": [
       "<div>\n",
       "<style scoped>\n",
       "    .dataframe tbody tr th:only-of-type {\n",
       "        vertical-align: middle;\n",
       "    }\n",
       "\n",
       "    .dataframe tbody tr th {\n",
       "        vertical-align: top;\n",
       "    }\n",
       "\n",
       "    .dataframe thead th {\n",
       "        text-align: right;\n",
       "    }\n",
       "</style>\n",
       "<table border=\"1\" class=\"dataframe\">\n",
       "  <thead>\n",
       "    <tr style=\"text-align: right;\">\n",
       "      <th></th>\n",
       "      <th>thresholds</th>\n",
       "      <th>accuracy</th>\n",
       "    </tr>\n",
       "  </thead>\n",
       "  <tbody>\n",
       "    <tr>\n",
       "      <th>8</th>\n",
       "      <td>0.2370</td>\n",
       "      <td>0.876543</td>\n",
       "    </tr>\n",
       "    <tr>\n",
       "      <th>9</th>\n",
       "      <td>0.2289</td>\n",
       "      <td>0.876543</td>\n",
       "    </tr>\n",
       "    <tr>\n",
       "      <th>6</th>\n",
       "      <td>0.2471</td>\n",
       "      <td>0.876543</td>\n",
       "    </tr>\n",
       "    <tr>\n",
       "      <th>7</th>\n",
       "      <td>0.2421</td>\n",
       "      <td>0.864198</td>\n",
       "    </tr>\n",
       "    <tr>\n",
       "      <th>4</th>\n",
       "      <td>0.3011</td>\n",
       "      <td>0.839506</td>\n",
       "    </tr>\n",
       "  </tbody>\n",
       "</table>\n",
       "</div>"
      ],
      "text/plain": [
       "   thresholds  accuracy\n",
       "8      0.2370  0.876543\n",
       "9      0.2289  0.876543\n",
       "6      0.2471  0.876543\n",
       "7      0.2421  0.864198\n",
       "4      0.3011  0.839506"
      ]
     },
     "execution_count": 145,
     "metadata": {},
     "output_type": "execute_result"
    }
   ],
   "source": [
    "final_prediction = pd.Series(vgg_results[\"predict1\"])/100\n",
    "y_test = pd.Series(inception_results[\"real\"])\n",
    "\n",
    "fpr, tpr, thresholds = roc_curve(y_test, final_prediction)\n",
    "thresholds\n",
    "\n",
    "from sklearn.metrics import accuracy_score\n",
    "accuracy = []\n",
    "for thres in thresholds:\n",
    "    final_pred = np.where(final_prediction<thres, final_prediction, 1)\n",
    "    final_pred = np.where(final_pred>thres, final_pred, 0)\n",
    "    accuracy.append(accuracy_score(y_test, final_pred, normalize = True))\n",
    "accuracy = pd.concat([pd.Series(thresholds), pd.Series(accuracy)], axis=1)\n",
    "accuracy.columns = [\"thresholds\", \"accuracy\"]\n",
    "accuracy.sort_values(by=\"accuracy\", ascending = False, inplace = True)\n",
    "accuracy.head()"
   ]
  },
  {
   "cell_type": "code",
   "execution_count": 146,
   "id": "9311f3cf-d0e6-43a9-90e7-4004bbc06ca3",
   "metadata": {
    "tags": []
   },
   "outputs": [
    {
     "data": {
      "text/plain": [
       "<sklearn.metrics._plot.confusion_matrix.ConfusionMatrixDisplay at 0x176255dd0>"
      ]
     },
     "execution_count": 146,
     "metadata": {},
     "output_type": "execute_result"
    },
    {
     "data": {
      "image/png": "[encoded data removed]",
      "text/plain": [
       "<Figure size 640x480 with 2 Axes>"
      ]
     },
     "metadata": {},
     "output_type": "display_data"
    }
   ],
   "source": [
    "final_pred = np.where(final_prediction<0.2370, final_prediction, 1)\n",
    "final_pred = np.where(final_pred>0.2370, final_pred, 0)\n",
    "cm = confusion_matrix(y_test, final_pred)\n",
    "ConfusionMatrixDisplay(confusion_matrix=cm).plot()"
   ]
  },
  {
   "cell_type": "code",
   "execution_count": 147,
   "id": "70163e0b-e285-4137-88e6-981296bea003",
   "metadata": {
    "tags": []
   },
   "outputs": [
    {
     "data": {
      "text/html": [
       "<div>\n",
       "<style scoped>\n",
       "    .dataframe tbody tr th:only-of-type {\n",
       "        vertical-align: middle;\n",
       "    }\n",
       "\n",
       "    .dataframe tbody tr th {\n",
       "        vertical-align: top;\n",
       "    }\n",
       "\n",
       "    .dataframe thead th {\n",
       "        text-align: right;\n",
       "    }\n",
       "</style>\n",
       "<table border=\"1\" class=\"dataframe\">\n",
       "  <thead>\n",
       "    <tr style=\"text-align: right;\">\n",
       "      <th></th>\n",
       "      <th>thresholds</th>\n",
       "      <th>accuracy</th>\n",
       "    </tr>\n",
       "  </thead>\n",
       "  <tbody>\n",
       "    <tr>\n",
       "      <th>8</th>\n",
       "      <td>0.1874</td>\n",
       "      <td>0.888889</td>\n",
       "    </tr>\n",
       "    <tr>\n",
       "      <th>6</th>\n",
       "      <td>0.1952</td>\n",
       "      <td>0.876543</td>\n",
       "    </tr>\n",
       "    <tr>\n",
       "      <th>7</th>\n",
       "      <td>0.1917</td>\n",
       "      <td>0.864198</td>\n",
       "    </tr>\n",
       "    <tr>\n",
       "      <th>10</th>\n",
       "      <td>0.1825</td>\n",
       "      <td>0.839506</td>\n",
       "    </tr>\n",
       "    <tr>\n",
       "      <th>9</th>\n",
       "      <td>0.1831</td>\n",
       "      <td>0.827160</td>\n",
       "    </tr>\n",
       "  </tbody>\n",
       "</table>\n",
       "</div>"
      ],
      "text/plain": [
       "    thresholds  accuracy\n",
       "8       0.1874  0.888889\n",
       "6       0.1952  0.876543\n",
       "7       0.1917  0.864198\n",
       "10      0.1825  0.839506\n",
       "9       0.1831  0.827160"
      ]
     },
     "execution_count": 147,
     "metadata": {},
     "output_type": "execute_result"
    }
   ],
   "source": [
    "final_prediction = pd.Series(resnet_results[\"predict1\"])/100\n",
    "y_test = pd.Series(inception_results[\"real\"])\n",
    "\n",
    "fpr, tpr, thresholds = roc_curve(y_test, final_prediction)\n",
    "thresholds\n",
    "\n",
    "from sklearn.metrics import accuracy_score\n",
    "accuracy = []\n",
    "for thres in thresholds:\n",
    "    final_pred = np.where(final_prediction<thres, final_prediction, 1)\n",
    "    final_pred = np.where(final_pred>thres, final_pred, 0)\n",
    "    accuracy.append(accuracy_score(y_test, final_pred, normalize = True))\n",
    "accuracy = pd.concat([pd.Series(thresholds), pd.Series(accuracy)], axis=1)\n",
    "accuracy.columns = [\"thresholds\", \"accuracy\"]\n",
    "accuracy.sort_values(by=\"accuracy\", ascending = False, inplace = True)\n",
    "accuracy.head()"
   ]
  },
  {
   "cell_type": "code",
   "execution_count": 148,
   "id": "9a90d695-1286-45e9-9f4e-0897033f6501",
   "metadata": {
    "tags": []
   },
   "outputs": [
    {
     "data": {
      "text/plain": [
       "<sklearn.metrics._plot.confusion_matrix.ConfusionMatrixDisplay at 0x179114310>"
      ]
     },
     "execution_count": 148,
     "metadata": {},
     "output_type": "execute_result"
    },
    {
     "data": {
      "image/png": "[encoded data removed]",
      "text/plain": [
       "<Figure size 640x480 with 2 Axes>"
      ]
     },
     "metadata": {},
     "output_type": "display_data"
    }
   ],
   "source": [
    "final_pred = np.where(final_prediction<0.1874, final_prediction, 1)\n",
    "final_pred = np.where(final_pred>0.1874, final_pred, 0)\n",
    "cm = confusion_matrix(y_test, final_pred)\n",
    "ConfusionMatrixDisplay(confusion_matrix=cm).plot()"
   ]
  },
  {
   "cell_type": "code",
   "execution_count": 149,
   "id": "bdf12b84-8c7e-4ccf-a0d8-97b326cdbcc2",
   "metadata": {
    "tags": []
   },
   "outputs": [
    {
     "data": {
      "text/html": [
       "<div>\n",
       "<style scoped>\n",
       "    .dataframe tbody tr th:only-of-type {\n",
       "        vertical-align: middle;\n",
       "    }\n",
       "\n",
       "    .dataframe tbody tr th {\n",
       "        vertical-align: top;\n",
       "    }\n",
       "\n",
       "    .dataframe thead th {\n",
       "        text-align: right;\n",
       "    }\n",
       "</style>\n",
       "<table border=\"1\" class=\"dataframe\">\n",
       "  <thead>\n",
       "    <tr style=\"text-align: right;\">\n",
       "      <th></th>\n",
       "      <th>thresholds</th>\n",
       "      <th>accuracy</th>\n",
       "    </tr>\n",
       "  </thead>\n",
       "  <tbody>\n",
       "    <tr>\n",
       "      <th>23</th>\n",
       "      <td>0.2163</td>\n",
       "      <td>0.641975</td>\n",
       "    </tr>\n",
       "    <tr>\n",
       "      <th>12</th>\n",
       "      <td>0.2433</td>\n",
       "      <td>0.641975</td>\n",
       "    </tr>\n",
       "    <tr>\n",
       "      <th>16</th>\n",
       "      <td>0.2292</td>\n",
       "      <td>0.629630</td>\n",
       "    </tr>\n",
       "    <tr>\n",
       "      <th>25</th>\n",
       "      <td>0.2149</td>\n",
       "      <td>0.629630</td>\n",
       "    </tr>\n",
       "    <tr>\n",
       "      <th>24</th>\n",
       "      <td>0.2157</td>\n",
       "      <td>0.629630</td>\n",
       "    </tr>\n",
       "  </tbody>\n",
       "</table>\n",
       "</div>"
      ],
      "text/plain": [
       "    thresholds  accuracy\n",
       "23      0.2163  0.641975\n",
       "12      0.2433  0.641975\n",
       "16      0.2292  0.629630\n",
       "25      0.2149  0.629630\n",
       "24      0.2157  0.629630"
      ]
     },
     "execution_count": 149,
     "metadata": {},
     "output_type": "execute_result"
    }
   ],
   "source": [
    "final_prediction = pd.Series(custom_results[\"predict1\"])/100\n",
    "y_test = pd.Series(inception_results[\"real\"])\n",
    "\n",
    "fpr, tpr, thresholds = roc_curve(y_test, final_prediction)\n",
    "thresholds\n",
    "\n",
    "from sklearn.metrics import accuracy_score\n",
    "accuracy = []\n",
    "for thres in thresholds:\n",
    "    final_pred = np.where(final_prediction<thres, final_prediction, 1)\n",
    "    final_pred = np.where(final_pred>thres, final_pred, 0)\n",
    "    accuracy.append(accuracy_score(y_test, final_pred, normalize = True))\n",
    "accuracy = pd.concat([pd.Series(thresholds), pd.Series(accuracy)], axis=1)\n",
    "accuracy.columns = [\"thresholds\", \"accuracy\"]\n",
    "accuracy.sort_values(by=\"accuracy\", ascending = False, inplace = True)\n",
    "accuracy.head()"
   ]
  },
  {
   "cell_type": "code",
   "execution_count": 150,
   "id": "9791d945-a713-4a4c-aeec-ea2c36513e80",
   "metadata": {
    "tags": []
   },
   "outputs": [
    {
     "data": {
      "text/plain": [
       "<sklearn.metrics._plot.confusion_matrix.ConfusionMatrixDisplay at 0x178e7e350>"
      ]
     },
     "execution_count": 150,
     "metadata": {},
     "output_type": "execute_result"
    },
    {
     "data": {
      "image/png": "[encoded data removed]",
      "text/plain": [
       "<Figure size 640x480 with 2 Axes>"
      ]
     },
     "metadata": {},
     "output_type": "display_data"
    }
   ],
   "source": [
    "final_pred = np.where(final_prediction<0.216, final_prediction, 1)\n",
    "final_pred = np.where(final_pred>0.216, final_pred, 0)\n",
    "cm = confusion_matrix(y_test, final_pred)\n",
    "ConfusionMatrixDisplay(confusion_matrix=cm).plot()"
   ]
  }
 ],
 "metadata": {
  "kernelspec": {
   "display_name": "Python 3 (ipykernel)",
   "language": "python",
   "name": "python3"
  },
  "language_info": {
   "codemirror_mode": {
    "name": "ipython",
    "version": 3
   },
   "file_extension": ".py",
   "mimetype": "text/x-python",
   "name": "python",
   "nbconvert_exporter": "python",
   "pygments_lexer": "ipython3",
   "version": "3.11.3"
  }
 },
 "nbformat": 4,
 "nbformat_minor": 5
}
