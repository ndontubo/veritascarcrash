{
 "cells": [
  {
   "cell_type": "code",
   "execution_count": 3,
   "id": "7c64cc00",
   "metadata": {},
   "outputs": [],
   "source": [
    "import cv2\n",
    "import pandas as pd\n",
    "import numpy as np\n",
    "import os"
   ]
  },
  {
   "cell_type": "code",
   "execution_count": 17,
   "id": "52f492e6",
   "metadata": {},
   "outputs": [
    {
     "ename": "error",
     "evalue": "OpenCV(4.6.0) :-1: error: (-5:Bad argument) in function 'VideoCapture'\n> Overload resolution failed:\n>  - Can't convert object of type 'posix.DirEntry' to 'str' for 'filename'\n>  - VideoCapture() missing required argument 'apiPreference' (pos 2)\n>  - Argument 'index' is required to be an integer\n>  - VideoCapture() missing required argument 'apiPreference' (pos 2)\n",
     "output_type": "error",
     "traceback": [
      "\u001b[0;31m---------------------------------------------------------------------------\u001b[0m",
      "\u001b[0;31merror\u001b[0m                                     Traceback (most recent call last)",
      "Cell \u001b[0;32mIn[17], line 5\u001b[0m\n\u001b[1;32m      1\u001b[0m \u001b[38;5;66;03m# assign directory\u001b[39;00m\n\u001b[1;32m      2\u001b[0m \u001b[38;5;66;03m# iterate over files in\u001b[39;00m\n\u001b[1;32m      3\u001b[0m \u001b[38;5;66;03m# that directory\u001b[39;00m\n\u001b[1;32m      4\u001b[0m \u001b[38;5;28;01mfor\u001b[39;00m filename \u001b[38;5;129;01min\u001b[39;00m os\u001b[38;5;241m.\u001b[39mscandir(\u001b[38;5;124m'\u001b[39m\u001b[38;5;124m/Users/nalthan/Desktop/vertiasopencvprojecy/Crash-1500\u001b[39m\u001b[38;5;124m'\u001b[39m):\n\u001b[0;32m----> 5\u001b[0m     cam \u001b[38;5;241m=\u001b[39m cv2\u001b[38;5;241m.\u001b[39mVideoCapture(filename)\n\u001b[1;32m      6\u001b[0m     currentframe \u001b[38;5;241m=\u001b[39m \u001b[38;5;241m0\u001b[39m\n\u001b[1;32m      7\u001b[0m     tempdir \u001b[38;5;241m=\u001b[39m \u001b[38;5;124m\"\u001b[39m\u001b[38;5;124m/Users/nalthan/Desktop/vertiasopencvprojecy/crashframes/\u001b[39m\u001b[38;5;124m\"\u001b[39m \u001b[38;5;241m+\u001b[39m \u001b[38;5;28mstr\u001b[39m(currentframe)\n",
      "\u001b[0;31merror\u001b[0m: OpenCV(4.6.0) :-1: error: (-5:Bad argument) in function 'VideoCapture'\n> Overload resolution failed:\n>  - Can't convert object of type 'posix.DirEntry' to 'str' for 'filename'\n>  - VideoCapture() missing required argument 'apiPreference' (pos 2)\n>  - Argument 'index' is required to be an integer\n>  - VideoCapture() missing required argument 'apiPreference' (pos 2)\n"
     ]
    }
   ],
   "source": [
    "# assign directory\n",
    "# iterate over files in\n",
    "# that directory\n",
    "for filename in os.scandir('/Users/nalthan/Desktop/vertiasopencvprojecy/Crash-1500'):\n",
    "    cam = cv2.VideoCapture(filename)\n",
    "    currentframe = 0\n",
    "    tempdir = \"/Users/nalthan/Desktop/vertiasopencvprojecy/crashframes/\" + str(currentframe)\n",
    "    os.makedir(tempdir)\n",
    "    while True:\n",
    "        ret,frame = cam.read()\n",
    "        if ret:\n",
    "            name = \"/Users/nalthan/Desktop/vertiasopencvprojecy/crashframes/\" + filename + \"/frame\" + currentframe +\".jpg\"\n",
    "            print(\"Creating:\" + filename)\n",
    "            cv2.write(name, frame)\n",
    "        else:\n",
    "            break\n",
    "    cam.release()\n",
    "    cv2.destroyAllWindows()"
   ]
  },
  {
   "cell_type": "code",
   "execution_count": null,
   "id": "fc4eb66c",
   "metadata": {},
   "outputs": [],
   "source": []
  },
  {
   "cell_type": "code",
   "execution_count": null,
   "id": "9647feb3",
   "metadata": {},
   "outputs": [],
   "source": []
  }
 ],
 "metadata": {
  "kernelspec": {
   "display_name": "Python 3 (ipykernel)",
   "language": "python",
   "name": "python3"
  },
  "language_info": {
   "codemirror_mode": {
    "name": "ipython",
    "version": 3
   },
   "file_extension": ".py",
   "mimetype": "text/x-python",
   "name": "python",
   "nbconvert_exporter": "python",
   "pygments_lexer": "ipython3",
   "version": "3.11.3"
  }
 },
 "nbformat": 4,
 "nbformat_minor": 5
}
